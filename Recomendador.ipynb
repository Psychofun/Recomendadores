{
 "cells": [
  {
   "cell_type": "code",
   "execution_count": 1,
   "metadata": {},
   "outputs": [],
   "source": [
    "%load_ext autoreload\n",
    "%autoreload 2"
   ]
  },
  {
   "cell_type": "markdown",
   "metadata": {},
   "source": [
    "### Conjunto de Datos:  Anime"
   ]
  },
  {
   "cell_type": "markdown",
   "metadata": {},
   "source": [
    "**Anime.csv**\n",
    "- anime_id - myanimelist.net's unique id identifying an anime.\n",
    "- name - full name of anime.\n",
    "- genre - comma separated list of genres for this anime.\n",
    "- type - movie, TV, OVA, etc.\n",
    "- episodes - how many episodes in this show. (1 if movie).\n",
    "- rating - average rating out of 10 for this anime.\n",
    "- members - number of community members that are in this anime's\n",
    "\"group\".\n",
    "\n",
    "**Rating.csv**\n",
    "\n",
    "- user_id - non identifiable randomly generated user id.\n",
    "- anime_id - the anime that this user has rated.\n",
    "- rating - rating out of 10 this user has assigned (-1 if the user watched it but didn't assign a rating).\n",
    "\n",
    "__enlace__: https://www.kaggle.com/CooperUnion/anime-recommendations-database"
   ]
  },
  {
   "cell_type": "code",
   "execution_count": 27,
   "metadata": {},
   "outputs": [],
   "source": [
    "from utils import read_data, get_dataframe, get_rating_matrix, create_dicts, save_dicts"
   ]
  },
  {
   "cell_type": "code",
   "execution_count": 23,
   "metadata": {},
   "outputs": [],
   "source": [
    "datos = get_dataframe()\n",
    "# Usa solo 1,000,000 ejemplos\n",
    "datos = datos.iloc[:1000000]"
   ]
  },
  {
   "cell_type": "code",
   "execution_count": 31,
   "metadata": {},
   "outputs": [
    {
     "data": {
      "text/html": [
       "<div>\n",
       "<style scoped>\n",
       "    .dataframe tbody tr th:only-of-type {\n",
       "        vertical-align: middle;\n",
       "    }\n",
       "\n",
       "    .dataframe tbody tr th {\n",
       "        vertical-align: top;\n",
       "    }\n",
       "\n",
       "    .dataframe thead th {\n",
       "        text-align: right;\n",
       "    }\n",
       "</style>\n",
       "<table border=\"1\" class=\"dataframe\">\n",
       "  <thead>\n",
       "    <tr style=\"text-align: right;\">\n",
       "      <th></th>\n",
       "      <th>user_id</th>\n",
       "      <th>anime_id</th>\n",
       "      <th>rating_user</th>\n",
       "      <th>name</th>\n",
       "      <th>genre</th>\n",
       "      <th>type</th>\n",
       "      <th>episodes</th>\n",
       "      <th>rating</th>\n",
       "      <th>members</th>\n",
       "    </tr>\n",
       "  </thead>\n",
       "  <tbody>\n",
       "    <tr>\n",
       "      <th>4933638</th>\n",
       "      <td>5073</td>\n",
       "      <td>22689</td>\n",
       "      <td>7</td>\n",
       "      <td>Terra Formars: Bugs 2-hen</td>\n",
       "      <td>Action, Horror, Sci-Fi, Space</td>\n",
       "      <td>OVA</td>\n",
       "      <td>2</td>\n",
       "      <td>7.27</td>\n",
       "      <td>21616</td>\n",
       "    </tr>\n",
       "    <tr>\n",
       "      <th>5952151</th>\n",
       "      <td>52158</td>\n",
       "      <td>73</td>\n",
       "      <td>9</td>\n",
       "      <td>Full Metal Panic! The Second Raid</td>\n",
       "      <td>Action, Mecha, Military</td>\n",
       "      <td>TV</td>\n",
       "      <td>13</td>\n",
       "      <td>8.06</td>\n",
       "      <td>155340</td>\n",
       "    </tr>\n",
       "    <tr>\n",
       "      <th>98631</th>\n",
       "      <td>72989</td>\n",
       "      <td>356</td>\n",
       "      <td>6</td>\n",
       "      <td>Fate/stay night</td>\n",
       "      <td>Action, Fantasy, Magic, Romance, Supernatural</td>\n",
       "      <td>TV</td>\n",
       "      <td>24</td>\n",
       "      <td>7.58</td>\n",
       "      <td>374880</td>\n",
       "    </tr>\n",
       "    <tr>\n",
       "      <th>683016</th>\n",
       "      <td>26964</td>\n",
       "      <td>12293</td>\n",
       "      <td>8</td>\n",
       "      <td>Campione!: Matsurowanu Kamigami to Kamigoroshi...</td>\n",
       "      <td>Comedy, Ecchi, Fantasy, Harem, Magic, Romance</td>\n",
       "      <td>TV</td>\n",
       "      <td>13</td>\n",
       "      <td>7.36</td>\n",
       "      <td>151928</td>\n",
       "    </tr>\n",
       "    <tr>\n",
       "      <th>3005772</th>\n",
       "      <td>53744</td>\n",
       "      <td>20541</td>\n",
       "      <td>8</td>\n",
       "      <td>Mikakunin de Shinkoukei</td>\n",
       "      <td>Comedy, Romance, School, Slice of Life</td>\n",
       "      <td>TV</td>\n",
       "      <td>12</td>\n",
       "      <td>7.59</td>\n",
       "      <td>133385</td>\n",
       "    </tr>\n",
       "  </tbody>\n",
       "</table>\n",
       "</div>"
      ],
      "text/plain": [
       "         user_id  anime_id  rating_user  \\\n",
       "4933638     5073     22689            7   \n",
       "5952151    52158        73            9   \n",
       "98631      72989       356            6   \n",
       "683016     26964     12293            8   \n",
       "3005772    53744     20541            8   \n",
       "\n",
       "                                                      name  \\\n",
       "4933638                          Terra Formars: Bugs 2-hen   \n",
       "5952151                  Full Metal Panic! The Second Raid   \n",
       "98631                                      Fate/stay night   \n",
       "683016   Campione!: Matsurowanu Kamigami to Kamigoroshi...   \n",
       "3005772                            Mikakunin de Shinkoukei   \n",
       "\n",
       "                                                 genre type episodes  rating  \\\n",
       "4933638                  Action, Horror, Sci-Fi, Space  OVA        2    7.27   \n",
       "5952151                        Action, Mecha, Military   TV       13    8.06   \n",
       "98631    Action, Fantasy, Magic, Romance, Supernatural   TV       24    7.58   \n",
       "683016   Comedy, Ecchi, Fantasy, Harem, Magic, Romance   TV       13    7.36   \n",
       "3005772         Comedy, Romance, School, Slice of Life   TV       12    7.59   \n",
       "\n",
       "         members  \n",
       "4933638    21616  \n",
       "5952151   155340  \n",
       "98631     374880  \n",
       "683016    151928  \n",
       "3005772   133385  "
      ]
     },
     "execution_count": 31,
     "metadata": {},
     "output_type": "execute_result"
    }
   ],
   "source": [
    "datos.head()"
   ]
  },
  {
   "cell_type": "markdown",
   "metadata": {},
   "source": [
    "#### Crea y guarda diccionarios id a nombre "
   ]
  },
  {
   "cell_type": "code",
   "execution_count": 6,
   "metadata": {},
   "outputs": [],
   "source": [
    "id_to_anime_name,anime_name_to_id = create_dicts(datos)\n",
    "save_dicts(id_to_anime_name, anime_name_to_id)"
   ]
  },
  {
   "cell_type": "code",
   "execution_count": 7,
   "metadata": {},
   "outputs": [],
   "source": [
    "# Carga los diccionarios\n",
    "#id_to_anime_name, anime_name_to_id = load_anime_dicts()"
   ]
  },
  {
   "cell_type": "markdown",
   "metadata": {},
   "source": [
    "### Forma conjuntos U, I\n",
    "\n",
    "- **U** usuarios por item\n",
    "- **I** items por usuario\n"
   ]
  },
  {
   "cell_type": "code",
   "execution_count": 8,
   "metadata": {},
   "outputs": [],
   "source": [
    "from collections import defaultdict\n",
    "def get_sets(data):\n",
    "    users_per_item = defaultdict(set)\n",
    "    items_per_user = defaultdict(set)\n",
    "    n,m = data.shape\n",
    "\n",
    "    for j in range(n):\n",
    "        datapoint = data.iloc[j]\n",
    "        product_id = datapoint['anime_id']\n",
    "        user_id = datapoint['user_id']\n",
    "        \n",
    "        users_per_item[product_id].add(user_id)\n",
    "        items_per_user[user_id].add(product_id)\n",
    "        \n",
    "    return users_per_item, items_per_user"
   ]
  },
  {
   "cell_type": "code",
   "execution_count": 9,
   "metadata": {},
   "outputs": [],
   "source": [
    "U,I = get_sets(datos)\n"
   ]
  },
  {
   "cell_type": "markdown",
   "metadata": {},
   "source": [
    "### Medida de Similaridad"
   ]
  },
  {
   "cell_type": "code",
   "execution_count": 10,
   "metadata": {},
   "outputs": [],
   "source": [
    "\n",
    "def Jaccard(s1, s2):\n",
    "    \"\"\"\n",
    "    s1: set\n",
    "    s2: set\n",
    "    \"\"\"\n",
    "    numer = len(s1.intersection(s2))\n",
    "    denom = len(s1.union(s2))\n",
    "    return numer / denom\n"
   ]
  },
  {
   "cell_type": "code",
   "execution_count": 11,
   "metadata": {},
   "outputs": [],
   "source": [
    "def mas_similares(item_id , n_items):\n",
    "    \"\"\"\n",
    "    indice: int o str\n",
    "        identificador  item.\n",
    "        recomienda items similares a este\n",
    "    item_id:int \n",
    "        número de items a recomendar.\n",
    "        \n",
    "    Return n_items items más similares \n",
    "    \n",
    "    \"\"\"\n",
    "    \n",
    "    similares = []\n",
    "    \n",
    "    # Usuarios que han calificado el item\n",
    "    usuarios = U[item_id]\n",
    "    items = set()\n",
    "    \n",
    "    for u in usuarios:\n",
    "        # Agrega los items  de cada usuario\n",
    "        items = items.union(I[u])\n",
    "        \n",
    "    \n",
    "    for item in items:\n",
    "        if item == item_id:\n",
    "            continue\n",
    "        \n",
    "        sim = Jaccard(usuarios, U[item])\n",
    "        \n",
    "        similares.append((sim, item))\n",
    "        \n",
    "    similares.sort(key = lambda d: d[0], reverse = True)\n",
    "    \n",
    "    return similares[:n_items]\n",
    "        \n"
   ]
  },
  {
   "cell_type": "markdown",
   "metadata": {},
   "source": [
    "### Recomendaciones"
   ]
  },
  {
   "cell_type": "code",
   "execution_count": 37,
   "metadata": {},
   "outputs": [
    {
     "name": "stdout",
     "output_type": "stream",
     "text": [
      "(similaridad, anime_id): \n",
      "(0.04352078239608802, 121)\n",
      "(0.04071283685888148, 11757)\n",
      "(0.039293439077144915, 3588)\n",
      "(0.03876197494473103, 16498)\n",
      "(0.03769244381525394, 9919)\n",
      "(0.03719577529465789, 1575)\n",
      "(0.036672487696459755, 20)\n",
      "(0.03653912443984833, 2167)\n",
      "(0.03618421052631579, 2904)\n",
      "(0.03463648834019204, 10620)\n",
      "(0.034357316087308, 20507)\n",
      "(0.03405185879412684, 226)\n",
      "(0.0335545261049205, 1535)\n",
      "(0.03345724907063197, 6547)\n",
      "(0.03333333333333333, 15809)\n",
      "(0.03271028037383177, 4224)\n",
      "(0.03234802007808143, 6746)\n",
      "(0.032063119019640755, 8074)\n",
      "(0.03178082191780822, 2001)\n",
      "(0.030906450943787595, 13601)\n",
      "(0.030899393047636566, 9253)\n",
      "(0.03077232502011263, 356)\n",
      "(0.03073463268365817, 22319)\n",
      "(0.029873200085966042, 6702)\n",
      "(0.029562251279135872, 19815)\n"
     ]
    }
   ],
   "source": [
    "# 20 Naruto\n",
    "# 5114  Fullmetal Alchemist: Brotherhood\n",
    "# 28977 Gintama\n",
    "# 28851 Koe no Katachi\n",
    "# 1 Cowboy Bebop\n",
    "# 30276  One Punch Man\n",
    "# 2001 Tengen Toppa Gurren Lagann\n",
    "item =5114 \n",
    "rec = mas_similares(item_id = item  , n_items= 25 )\n",
    "print(\"(similaridad, anime_id): \", *rec, sep= \"\\n\")"
   ]
  },
  {
   "cell_type": "code",
   "execution_count": 38,
   "metadata": {},
   "outputs": [
    {
     "data": {
      "text/plain": [
       "['Fullmetal Alchemist',\n",
       " 'Sword Art Online',\n",
       " 'Soul Eater',\n",
       " 'Shingeki no Kyojin',\n",
       " 'Ao no Exorcist',\n",
       " 'Code Geass: Hangyaku no Lelouch',\n",
       " 'Naruto',\n",
       " 'Clannad',\n",
       " 'Code Geass: Hangyaku no Lelouch R2',\n",
       " 'Mirai Nikki (TV)',\n",
       " 'Noragami',\n",
       " 'Elfen Lied',\n",
       " 'Death Note',\n",
       " 'Angel Beats!',\n",
       " 'Hataraku Maou-sama!',\n",
       " 'Toradora!',\n",
       " 'Durarara!!',\n",
       " 'Highschool of the Dead',\n",
       " 'Tengen Toppa Gurren Lagann',\n",
       " 'Psycho-Pass',\n",
       " 'Steins;Gate',\n",
       " 'Fate/stay night',\n",
       " 'Tokyo Ghoul',\n",
       " 'Fairy Tail',\n",
       " 'No Game No Life']"
      ]
     },
     "execution_count": 38,
     "metadata": {},
     "output_type": "execute_result"
    }
   ],
   "source": [
    "recomendaciones = list(map(lambda m: id_to_anime_name[ str(m[1])], rec))\n",
    "recomendaciones"
   ]
  },
  {
   "cell_type": "code",
   "execution_count": null,
   "metadata": {},
   "outputs": [],
   "source": []
  },
  {
   "cell_type": "code",
   "execution_count": null,
   "metadata": {},
   "outputs": [],
   "source": []
  }
 ],
 "metadata": {
  "kernelspec": {
   "display_name": "py3",
   "language": "python",
   "name": "py3"
  },
  "language_info": {
   "codemirror_mode": {
    "name": "ipython",
    "version": 3
   },
   "file_extension": ".py",
   "mimetype": "text/x-python",
   "name": "python",
   "nbconvert_exporter": "python",
   "pygments_lexer": "ipython3",
   "version": "3.7.6"
  }
 },
 "nbformat": 4,
 "nbformat_minor": 4
}
